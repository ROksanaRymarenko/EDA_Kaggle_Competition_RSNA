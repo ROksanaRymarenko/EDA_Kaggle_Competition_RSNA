{
 "cells": [
  {
   "cell_type": "markdown",
   "id": "4256bfcb",
   "metadata": {},
   "source": [
    "# An Exploratory Data Analysis\n",
    "## for the RSNA Breast Cancer Detection Competition on Kaggle"
   ]
  },
  {
   "cell_type": "markdown",
   "id": "cd3e3532",
   "metadata": {},
   "source": [
    "**This Notebook is an _exploratory data analysis (EDA)_ for the competition [RSNA Breast Cancer Detection Competition](https://www.kaggle.com/competitions/rsna-breast-cancer-detection/data?select=test.csv) on Kaggle.**\n",
    "\n",
    "RSNA - The Radiological Society of North America\n",
    "\n",
    "In this notebook, we will be using a dataset that contains metadata for each patient.\n",
    "\n",
    "The goal is to understand the characteristics of the data and identify any potential issues or inconsistencies that may need to be taken into considereation before moving on to the ML phase of analyses - identifying cases of breast cancer in mammograms."
   ]
  },
  {
   "cell_type": "markdown",
   "id": "e8d82af1",
   "metadata": {},
   "source": [
    "The dataset contains radiographic female breast images\n",
    "\n",
    "- We will load the data and take a look at the structure of the meta data.\n",
    "- Besides that, we will perform some basic statistical analysis to get a sense of the overall distribution and range of values in the data.\n",
    "- Additionally, we will visualize the data in various ways to help us to get a better understanding of the relationships between different variables and the underlying patterns present in the data."
   ]
  },
  {
   "cell_type": "markdown",
   "id": "ad0595b9",
   "metadata": {},
   "source": []
  },
  {
   "cell_type": "code",
   "execution_count": 1,
   "id": "49aed7ac",
   "metadata": {},
   "outputs": [
    {
     "name": "stdout",
     "output_type": "stream",
     "text": [
      "\u001b[1m\u001b[91mNotebook Color Schemes:\u001b[0m\n"
     ]
    },
    {
     "data": {
      "image/png": "[encoded data removed]",
      "text/plain": [
       "<Figure size 504x72 with 1 Axes>"
      ]
     },
     "metadata": {},
     "output_type": "display_data"
    }
   ],
   "source": [
    "# General Libraries\n",
    "import os\n",
    "import math\n",
    "import pandas as pd\n",
    "import numpy as np\n",
    "from pathlib import Path\n",
    "\n",
    "# For the Visuals\n",
    "import seaborn as sns\n",
    "import matplotlib as mpl\n",
    "import matplotlib.pyplot as plt\n",
    "from matplotlib.colors import ListedColormap, LinearSegmentedColormap\n",
    "\n",
    "# Custom colors\n",
    "sns.set(style= 'whitegrid')\n",
    "class clr:\n",
    "    S = '\\033[1m' + '\\033[91m'\n",
    "    E = '\\033[0m'\n",
    "    \n",
    "my_colors = [\"#356264\", \"#63A3A6\", \"#97D1D4\", \"#E8B290\", \n",
    "             \"#DF928E\", \"#E47A7A\", \"#9D0101\"] ##B84949\n",
    "CMAP1 = ListedColormap(my_colors)\n",
    "\n",
    "print(clr.S+\"Notebook Color Schemes:\"+clr.E)\n",
    "sns.palplot(sns.color_palette(my_colors))\n",
    "plt.show()"
   ]
  },
  {
   "cell_type": "code",
   "execution_count": null,
   "id": "55f769b2",
   "metadata": {},
   "outputs": [],
   "source": []
  },
  {
   "cell_type": "markdown",
   "id": "da0ef353",
   "metadata": {},
   "source": [
    "## Exploring the patients metadata"
   ]
  },
  {
   "cell_type": "code",
   "execution_count": 2,
   "id": "8cd1488b",
   "metadata": {},
   "outputs": [],
   "source": [
    "# Read CSV data \n",
    "data_dir = Path(\"E:/ML/Kaggle Cancer Competition\")\n",
    "train = pd.read_csv(data_dir/\"train.csv.zip\", compression = 'zip')"
   ]
  },
  {
   "cell_type": "code",
   "execution_count": 3,
   "id": "eda9b5db",
   "metadata": {},
   "outputs": [
    {
     "data": {
      "text/html": [
       "<div>\n",
       "<style scoped>\n",
       "    .dataframe tbody tr th:only-of-type {\n",
       "        vertical-align: middle;\n",
       "    }\n",
       "\n",
       "    .dataframe tbody tr th {\n",
       "        vertical-align: top;\n",
       "    }\n",
       "\n",
       "    .dataframe thead th {\n",
       "        text-align: right;\n",
       "    }\n",
       "</style>\n",
       "<table border=\"1\" class=\"dataframe\">\n",
       "  <thead>\n",
       "    <tr style=\"text-align: right;\">\n",
       "      <th></th>\n",
       "      <th>site_id</th>\n",
       "      <th>patient_id</th>\n",
       "      <th>image_id</th>\n",
       "      <th>laterality</th>\n",
       "      <th>view</th>\n",
       "      <th>age</th>\n",
       "      <th>cancer</th>\n",
       "      <th>biopsy</th>\n",
       "      <th>invasive</th>\n",
       "      <th>BIRADS</th>\n",
       "      <th>implant</th>\n",
       "      <th>density</th>\n",
       "      <th>machine_id</th>\n",
       "      <th>difficult_negative_case</th>\n",
       "    </tr>\n",
       "  </thead>\n",
       "  <tbody>\n",
       "    <tr>\n",
       "      <th>0</th>\n",
       "      <td>2</td>\n",
       "      <td>10006</td>\n",
       "      <td>462822612</td>\n",
       "      <td>L</td>\n",
       "      <td>CC</td>\n",
       "      <td>61.0</td>\n",
       "      <td>0</td>\n",
       "      <td>0</td>\n",
       "      <td>0</td>\n",
       "      <td>NaN</td>\n",
       "      <td>0</td>\n",
       "      <td>NaN</td>\n",
       "      <td>29</td>\n",
       "      <td>False</td>\n",
       "    </tr>\n",
       "    <tr>\n",
       "      <th>1</th>\n",
       "      <td>2</td>\n",
       "      <td>10006</td>\n",
       "      <td>1459541791</td>\n",
       "      <td>L</td>\n",
       "      <td>MLO</td>\n",
       "      <td>61.0</td>\n",
       "      <td>0</td>\n",
       "      <td>0</td>\n",
       "      <td>0</td>\n",
       "      <td>NaN</td>\n",
       "      <td>0</td>\n",
       "      <td>NaN</td>\n",
       "      <td>29</td>\n",
       "      <td>False</td>\n",
       "    </tr>\n",
       "    <tr>\n",
       "      <th>2</th>\n",
       "      <td>2</td>\n",
       "      <td>10006</td>\n",
       "      <td>1864590858</td>\n",
       "      <td>R</td>\n",
       "      <td>MLO</td>\n",
       "      <td>61.0</td>\n",
       "      <td>0</td>\n",
       "      <td>0</td>\n",
       "      <td>0</td>\n",
       "      <td>NaN</td>\n",
       "      <td>0</td>\n",
       "      <td>NaN</td>\n",
       "      <td>29</td>\n",
       "      <td>False</td>\n",
       "    </tr>\n",
       "  </tbody>\n",
       "</table>\n",
       "</div>"
      ],
      "text/plain": [
       "   site_id  patient_id    image_id laterality view   age  cancer  biopsy  \\\n",
       "0        2       10006   462822612          L   CC  61.0       0       0   \n",
       "1        2       10006  1459541791          L  MLO  61.0       0       0   \n",
       "2        2       10006  1864590858          R  MLO  61.0       0       0   \n",
       "\n",
       "   invasive  BIRADS  implant density  machine_id  difficult_negative_case  \n",
       "0         0     NaN        0     NaN          29                    False  \n",
       "1         0     NaN        0     NaN          29                    False  \n",
       "2         0     NaN        0     NaN          29                    False  "
      ]
     },
     "execution_count": 3,
     "metadata": {},
     "output_type": "execute_result"
    }
   ],
   "source": [
    "# Check first three rows of CSV flat file.\n",
    "train.head(3)"
   ]
  },
  {
   "cell_type": "markdown",
   "id": "76a103d0",
   "metadata": {},
   "source": [
    "## Basic Information provided by RSNA -  [Dataset Description](https://www.kaggle.com/competitions/rsna-breast-cancer-detection/data)\n",
    "\n",
    "* site_id - ID code for the source hospital.\n",
    "* patient_id - ID code for the patient.\n",
    "* image_id - ID code for the image.\n",
    "* laterality - Whether the image is of the left or right breast.\n",
    "* view - The orientation of the image. The default for a screening exam is to capture two views per breast.\n",
    "* age - The patient's age in years.\n",
    "* implant - Whether or not the patient had breast implants. Site 1 only provides breast implant information at the patient level, not at the breast level.\n",
    "* density - A rating for how dense the breast tissue is, with A being the least dense and D being the most dense. Extremely dense tissue can make diagnosis more difficult.\n",
    "* machine_id - An ID code for the imaging device.\n",
    "* cancer - Whether or not the breast was positive for malignant cancer. The target value.\n",
    "* biopsy - Whether or not a follow-up biopsy was performed on the breast.\n",
    "* invasive - If the breast is positive for cancer, whether or not the cancer proved to be invasive.\n",
    "* BIRADS - 0 if the breast required follow-up, 1 if the breast was rated as negative for cancer, and 2 if the breast was rated as normal.\n",
    "* difficult_negative_case - True if the case was unusually difficult."
   ]
  },
  {
   "cell_type": "code",
   "execution_count": 4,
   "id": "f64775b4",
   "metadata": {},
   "outputs": [
    {
     "data": {
      "text/plain": [
       "(54706, 14)"
      ]
     },
     "execution_count": 4,
     "metadata": {},
     "output_type": "execute_result"
    }
   ],
   "source": [
    "train.shape"
   ]
  },
  {
   "cell_type": "code",
   "execution_count": 5,
   "id": "acace9f8",
   "metadata": {},
   "outputs": [
    {
     "data": {
      "text/plain": [
       "site_id                      int64\n",
       "patient_id                   int64\n",
       "image_id                     int64\n",
       "laterality                  object\n",
       "view                        object\n",
       "age                        float64\n",
       "cancer                       int64\n",
       "biopsy                       int64\n",
       "invasive                     int64\n",
       "BIRADS                     float64\n",
       "implant                      int64\n",
       "density                     object\n",
       "machine_id                   int64\n",
       "difficult_negative_case       bool\n",
       "dtype: object"
      ]
     },
     "execution_count": 5,
     "metadata": {},
     "output_type": "execute_result"
    }
   ],
   "source": [
    "train.dtypes"
   ]
  },
  {
   "cell_type": "code",
   "execution_count": 6,
   "id": "16619ff9",
   "metadata": {},
   "outputs": [
    {
     "data": {
      "text/html": [
       "<div>\n",
       "<style scoped>\n",
       "    .dataframe tbody tr th:only-of-type {\n",
       "        vertical-align: middle;\n",
       "    }\n",
       "\n",
       "    .dataframe tbody tr th {\n",
       "        vertical-align: top;\n",
       "    }\n",
       "\n",
       "    .dataframe thead th {\n",
       "        text-align: right;\n",
       "    }\n",
       "</style>\n",
       "<table border=\"1\" class=\"dataframe\">\n",
       "  <thead>\n",
       "    <tr style=\"text-align: right;\">\n",
       "      <th></th>\n",
       "      <th>site_id</th>\n",
       "      <th>patient_id</th>\n",
       "      <th>image_id</th>\n",
       "      <th>age</th>\n",
       "      <th>cancer</th>\n",
       "      <th>biopsy</th>\n",
       "      <th>invasive</th>\n",
       "      <th>BIRADS</th>\n",
       "      <th>implant</th>\n",
       "      <th>machine_id</th>\n",
       "    </tr>\n",
       "  </thead>\n",
       "  <tbody>\n",
       "    <tr>\n",
       "      <th>count</th>\n",
       "      <td>54706.000000</td>\n",
       "      <td>54706.000000</td>\n",
       "      <td>5.470600e+04</td>\n",
       "      <td>54669.000000</td>\n",
       "      <td>54706.000000</td>\n",
       "      <td>54706.000000</td>\n",
       "      <td>54706.000000</td>\n",
       "      <td>26286.000000</td>\n",
       "      <td>54706.000000</td>\n",
       "      <td>54706.000000</td>\n",
       "    </tr>\n",
       "    <tr>\n",
       "      <th>mean</th>\n",
       "      <td>1.460407</td>\n",
       "      <td>32698.865262</td>\n",
       "      <td>1.079386e+09</td>\n",
       "      <td>58.543928</td>\n",
       "      <td>0.021168</td>\n",
       "      <td>0.054272</td>\n",
       "      <td>0.014953</td>\n",
       "      <td>0.772350</td>\n",
       "      <td>0.026999</td>\n",
       "      <td>54.618378</td>\n",
       "    </tr>\n",
       "    <tr>\n",
       "      <th>std</th>\n",
       "      <td>0.498434</td>\n",
       "      <td>18893.861534</td>\n",
       "      <td>6.183269e+08</td>\n",
       "      <td>10.050884</td>\n",
       "      <td>0.143944</td>\n",
       "      <td>0.226556</td>\n",
       "      <td>0.121365</td>\n",
       "      <td>0.590062</td>\n",
       "      <td>0.162081</td>\n",
       "      <td>44.784800</td>\n",
       "    </tr>\n",
       "    <tr>\n",
       "      <th>min</th>\n",
       "      <td>1.000000</td>\n",
       "      <td>5.000000</td>\n",
       "      <td>6.849100e+04</td>\n",
       "      <td>26.000000</td>\n",
       "      <td>0.000000</td>\n",
       "      <td>0.000000</td>\n",
       "      <td>0.000000</td>\n",
       "      <td>0.000000</td>\n",
       "      <td>0.000000</td>\n",
       "      <td>21.000000</td>\n",
       "    </tr>\n",
       "    <tr>\n",
       "      <th>25%</th>\n",
       "      <td>1.000000</td>\n",
       "      <td>16481.000000</td>\n",
       "      <td>5.458153e+08</td>\n",
       "      <td>51.000000</td>\n",
       "      <td>0.000000</td>\n",
       "      <td>0.000000</td>\n",
       "      <td>0.000000</td>\n",
       "      <td>0.000000</td>\n",
       "      <td>0.000000</td>\n",
       "      <td>29.000000</td>\n",
       "    </tr>\n",
       "    <tr>\n",
       "      <th>50%</th>\n",
       "      <td>1.000000</td>\n",
       "      <td>32432.000000</td>\n",
       "      <td>1.082689e+09</td>\n",
       "      <td>59.000000</td>\n",
       "      <td>0.000000</td>\n",
       "      <td>0.000000</td>\n",
       "      <td>0.000000</td>\n",
       "      <td>1.000000</td>\n",
       "      <td>0.000000</td>\n",
       "      <td>49.000000</td>\n",
       "    </tr>\n",
       "    <tr>\n",
       "      <th>75%</th>\n",
       "      <td>2.000000</td>\n",
       "      <td>48999.000000</td>\n",
       "      <td>1.613228e+09</td>\n",
       "      <td>66.000000</td>\n",
       "      <td>0.000000</td>\n",
       "      <td>0.000000</td>\n",
       "      <td>0.000000</td>\n",
       "      <td>1.000000</td>\n",
       "      <td>0.000000</td>\n",
       "      <td>49.000000</td>\n",
       "    </tr>\n",
       "    <tr>\n",
       "      <th>max</th>\n",
       "      <td>2.000000</td>\n",
       "      <td>65534.000000</td>\n",
       "      <td>2.147472e+09</td>\n",
       "      <td>89.000000</td>\n",
       "      <td>1.000000</td>\n",
       "      <td>1.000000</td>\n",
       "      <td>1.000000</td>\n",
       "      <td>2.000000</td>\n",
       "      <td>1.000000</td>\n",
       "      <td>216.000000</td>\n",
       "    </tr>\n",
       "  </tbody>\n",
       "</table>\n",
       "</div>"
      ],
      "text/plain": [
       "            site_id    patient_id      image_id           age        cancer  \\\n",
       "count  54706.000000  54706.000000  5.470600e+04  54669.000000  54706.000000   \n",
       "mean       1.460407  32698.865262  1.079386e+09     58.543928      0.021168   \n",
       "std        0.498434  18893.861534  6.183269e+08     10.050884      0.143944   \n",
       "min        1.000000      5.000000  6.849100e+04     26.000000      0.000000   \n",
       "25%        1.000000  16481.000000  5.458153e+08     51.000000      0.000000   \n",
       "50%        1.000000  32432.000000  1.082689e+09     59.000000      0.000000   \n",
       "75%        2.000000  48999.000000  1.613228e+09     66.000000      0.000000   \n",
       "max        2.000000  65534.000000  2.147472e+09     89.000000      1.000000   \n",
       "\n",
       "             biopsy      invasive        BIRADS       implant    machine_id  \n",
       "count  54706.000000  54706.000000  26286.000000  54706.000000  54706.000000  \n",
       "mean       0.054272      0.014953      0.772350      0.026999     54.618378  \n",
       "std        0.226556      0.121365      0.590062      0.162081     44.784800  \n",
       "min        0.000000      0.000000      0.000000      0.000000     21.000000  \n",
       "25%        0.000000      0.000000      0.000000      0.000000     29.000000  \n",
       "50%        0.000000      0.000000      1.000000      0.000000     49.000000  \n",
       "75%        0.000000      0.000000      1.000000      0.000000     49.000000  \n",
       "max        1.000000      1.000000      2.000000      1.000000    216.000000  "
      ]
     },
     "execution_count": 6,
     "metadata": {},
     "output_type": "execute_result"
    }
   ],
   "source": [
    "train.describe()"
   ]
  },
  {
   "cell_type": "code",
   "execution_count": 3,
   "id": "6aaf401b",
   "metadata": {},
   "outputs": [
    {
     "name": "stdout",
     "output_type": "stream",
     "text": [
      "\u001b[1mNumber of records in the dataset is : 54706\n",
      "\u001b[1mNumber of unique patients : 11913\n"
     ]
    }
   ],
   "source": [
    "print(f\"\\033[1mNumber of records in the dataset is : {train.shape[0]}\")\n",
    "print(f\"\\033[1mNumber of unique patients : {train.patient_id.nunique()}\")"
   ]
  },
  {
   "cell_type": "markdown",
   "id": "c4e83e7a",
   "metadata": {},
   "source": [
    "# Missing Data"
   ]
  },
  {
   "cell_type": "code",
   "execution_count": 4,
   "id": "d5302ba4",
   "metadata": {},
   "outputs": [
    {
     "data": {
      "text/html": [
       "<div>\n",
       "<style scoped>\n",
       "    .dataframe tbody tr th:only-of-type {\n",
       "        vertical-align: middle;\n",
       "    }\n",
       "\n",
       "    .dataframe tbody tr th {\n",
       "        vertical-align: top;\n",
       "    }\n",
       "\n",
       "    .dataframe thead th {\n",
       "        text-align: right;\n",
       "    }\n",
       "</style>\n",
       "<table border=\"1\" class=\"dataframe\">\n",
       "  <thead>\n",
       "    <tr style=\"text-align: right;\">\n",
       "      <th></th>\n",
       "      <th>Number of Null Values</th>\n",
       "    </tr>\n",
       "  </thead>\n",
       "  <tbody>\n",
       "    <tr>\n",
       "      <th>site_id</th>\n",
       "      <td>0</td>\n",
       "    </tr>\n",
       "    <tr>\n",
       "      <th>patient_id</th>\n",
       "      <td>0</td>\n",
       "    </tr>\n",
       "    <tr>\n",
       "      <th>image_id</th>\n",
       "      <td>0</td>\n",
       "    </tr>\n",
       "    <tr>\n",
       "      <th>laterality</th>\n",
       "      <td>0</td>\n",
       "    </tr>\n",
       "    <tr>\n",
       "      <th>view</th>\n",
       "      <td>0</td>\n",
       "    </tr>\n",
       "    <tr>\n",
       "      <th>age</th>\n",
       "      <td>37</td>\n",
       "    </tr>\n",
       "    <tr>\n",
       "      <th>cancer</th>\n",
       "      <td>0</td>\n",
       "    </tr>\n",
       "    <tr>\n",
       "      <th>biopsy</th>\n",
       "      <td>0</td>\n",
       "    </tr>\n",
       "    <tr>\n",
       "      <th>invasive</th>\n",
       "      <td>0</td>\n",
       "    </tr>\n",
       "    <tr>\n",
       "      <th>BIRADS</th>\n",
       "      <td>28420</td>\n",
       "    </tr>\n",
       "    <tr>\n",
       "      <th>implant</th>\n",
       "      <td>0</td>\n",
       "    </tr>\n",
       "    <tr>\n",
       "      <th>density</th>\n",
       "      <td>25236</td>\n",
       "    </tr>\n",
       "    <tr>\n",
       "      <th>machine_id</th>\n",
       "      <td>0</td>\n",
       "    </tr>\n",
       "    <tr>\n",
       "      <th>difficult_negative_case</th>\n",
       "      <td>0</td>\n",
       "    </tr>\n",
       "  </tbody>\n",
       "</table>\n",
       "</div>"
      ],
      "text/plain": [
       "                         Number of Null Values\n",
       "site_id                                      0\n",
       "patient_id                                   0\n",
       "image_id                                     0\n",
       "laterality                                   0\n",
       "view                                         0\n",
       "age                                         37\n",
       "cancer                                       0\n",
       "biopsy                                       0\n",
       "invasive                                     0\n",
       "BIRADS                                   28420\n",
       "implant                                      0\n",
       "density                                  25236\n",
       "machine_id                                   0\n",
       "difficult_negative_case                      0"
      ]
     },
     "execution_count": 4,
     "metadata": {},
     "output_type": "execute_result"
    }
   ],
   "source": [
    "train.isnull().sum().to_frame(name='Number of Null Values')"
   ]
  },
  {
   "cell_type": "markdown",
   "id": "77a8b195",
   "metadata": {},
   "source": [
    "**There are missing values only for age, BIRADS and density.**"
   ]
  },
  {
   "cell_type": "code",
   "execution_count": 5,
   "id": "4bc6b50c",
   "metadata": {},
   "outputs": [
    {
     "data": {
      "text/html": [
       "<div>\n",
       "<style scoped>\n",
       "    .dataframe tbody tr th:only-of-type {\n",
       "        vertical-align: middle;\n",
       "    }\n",
       "\n",
       "    .dataframe tbody tr th {\n",
       "        vertical-align: top;\n",
       "    }\n",
       "\n",
       "    .dataframe thead th {\n",
       "        text-align: right;\n",
       "    }\n",
       "</style>\n",
       "<table border=\"1\" class=\"dataframe\">\n",
       "  <thead>\n",
       "    <tr style=\"text-align: right;\">\n",
       "      <th></th>\n",
       "      <th>site_id</th>\n",
       "      <th>patient_id</th>\n",
       "      <th>image_id</th>\n",
       "      <th>laterality</th>\n",
       "      <th>view</th>\n",
       "      <th>age</th>\n",
       "      <th>cancer</th>\n",
       "      <th>biopsy</th>\n",
       "      <th>invasive</th>\n",
       "      <th>BIRADS</th>\n",
       "      <th>implant</th>\n",
       "      <th>density</th>\n",
       "      <th>machine_id</th>\n",
       "      <th>difficult_negative_case</th>\n",
       "    </tr>\n",
       "  </thead>\n",
       "  <tbody>\n",
       "  </tbody>\n",
       "</table>\n",
       "</div>"
      ],
      "text/plain": [
       "Empty DataFrame\n",
       "Columns: [site_id, patient_id, image_id, laterality, view, age, cancer, biopsy, invasive, BIRADS, implant, density, machine_id, difficult_negative_case]\n",
       "Index: []"
      ]
     },
     "execution_count": 5,
     "metadata": {},
     "output_type": "execute_result"
    }
   ],
   "source": [
    "#Duplicated data\n",
    "train.loc[train.duplicated()]"
   ]
  },
  {
   "cell_type": "code",
   "execution_count": 6,
   "id": "5759823c",
   "metadata": {},
   "outputs": [
    {
     "name": "stdout",
     "output_type": "stream",
     "text": [
      "\u001b[1m\u001b[91mThere is not any duplicated data\u001b[0m\n"
     ]
    }
   ],
   "source": [
    "print(clr.S+\"There is not any duplicated data\"+clr.E)"
   ]
  },
  {
   "cell_type": "code",
   "execution_count": null,
   "id": "f647f268",
   "metadata": {},
   "outputs": [],
   "source": []
  },
  {
   "cell_type": "markdown",
   "id": "df25a24f",
   "metadata": {},
   "source": [
    "# Images"
   ]
  },
  {
   "cell_type": "code",
   "execution_count": 7,
   "id": "3b2ee256",
   "metadata": {},
   "outputs": [
    {
     "name": "stdout",
     "output_type": "stream",
     "text": [
      "\u001b[1m\u001b[91mStatistics: Images per Patient\u001b[0m\n",
      "count    11913.000000\n",
      "mean         4.592126\n",
      "std          1.133216\n",
      "min          4.000000\n",
      "25%          4.000000\n",
      "50%          4.000000\n",
      "75%          5.000000\n",
      "max         14.000000\n",
      "Name: image_id, dtype: float64\n",
      "-------------------------------------------------\n",
      "\u001b[1m\u001b[91mTotal unique images:\u001b[0m 54706\n",
      "-------------------------------------------------\n"
     ]
    }
   ],
   "source": [
    "print(clr.S+\"Statistics: Images per Patient\"+clr.E)\n",
    "print(train.groupby(\"patient_id\")[\"image_id\"].count().reset_index().describe()[\"image_id\"])\n",
    "print(\"-------------------------------------------------\")\n",
    "print(clr.S+\"Total unique images:\"+clr.E, train[\"image_id\"].nunique())\n",
    "print(\"-------------------------------------------------\")"
   ]
  },
  {
   "cell_type": "markdown",
   "id": "f210cf2f",
   "metadata": {},
   "source": [
    "## Numbers of Images Taken Per Patient"
   ]
  },
  {
   "cell_type": "code",
   "execution_count": 8,
   "id": "cf579a9b",
   "metadata": {},
   "outputs": [
    {
     "name": "stderr",
     "output_type": "stream",
     "text": [
      "C:\\ProgramData\\Anaconda3\\lib\\site-packages\\seaborn\\_decorators.py:36: FutureWarning: Pass the following variable as a keyword arg: x. From version 0.12, the only valid positional argument will be `data`, and passing other arguments without an explicit keyword will result in an error or misinterpretation.\n",
      "  warnings.warn(\n"
     ]
    },
    {
     "data": {
      "image/png": "[encoded data removed]",
      "text/plain": [
       "<Figure size 1080x360 with 1 Axes>"
      ]
     },
     "metadata": {},
     "output_type": "display_data"
    }
   ],
   "source": [
    "plt.figure(figsize=(15,5))\n",
    "\n",
    "ax = sns.countplot(train.groupby('patient_id').size(), palette = 'OrRd_r')\n",
    "t=train['patient_id'].nunique();ax.set_ylim(0,9000) \n",
    "\n",
    "for p in ax.patches:\n",
    "    percentage = f'{100 * p.get_height() / t:.3f}%\\n';x = p.get_x() + p.get_width() / 2 ; y = p.get_height();\n",
    "    ax.annotate(percentage, (x, y), ha='center', va='center');ax.grid(axis='y', linestyle='-', alpha=0.4) \n",
    "    \n",
    "ax.text(x=0.85, y=0.78, transform=ax.transAxes, s=\"Number Patients with 4 Images ---> 69.109%\", fontsize=12, color = my_colors[0], fontweight='bold', verticalalignment='top', horizontalalignment='right')\n",
    "ax.text(x=0.85, y=0.71, transform=ax.transAxes, s=\"Number Patients with more than 4 Images ---> 30.891%\", fontsize=12, color= my_colors[6],   fontweight='bold', verticalalignment='top', horizontalalignment='right')\n",
    "\n",
    "plt.title(\"Number of images taken per patients\\n\", fontsize = 'x-large')\n",
    "plt.xlabel('Number of images taken', fontsize = 'x-large')\n",
    "plt.ylabel('Count of patients',fontsize = 'x-large')\n",
    "\n",
    "plt.show()"
   ]
  },
  {
   "cell_type": "markdown",
   "id": "e8a3e2a7",
   "metadata": {},
   "source": [
    "**Most of the patients has 4 images (2 views per side - left and right).\n",
    "However more than 30% patients have more of them.**\n"
   ]
  },
  {
   "cell_type": "code",
   "execution_count": null,
   "id": "3f6a31b6",
   "metadata": {},
   "outputs": [],
   "source": []
  },
  {
   "cell_type": "markdown",
   "id": "57848227",
   "metadata": {},
   "source": [
    "## Laterality"
   ]
  },
  {
   "cell_type": "code",
   "execution_count": 9,
   "id": "40c7b3c5",
   "metadata": {},
   "outputs": [
    {
     "data": {
      "text/html": [
       "<div>\n",
       "<style scoped>\n",
       "    .dataframe tbody tr th:only-of-type {\n",
       "        vertical-align: middle;\n",
       "    }\n",
       "\n",
       "    .dataframe tbody tr th {\n",
       "        vertical-align: top;\n",
       "    }\n",
       "\n",
       "    .dataframe thead th {\n",
       "        text-align: right;\n",
       "    }\n",
       "</style>\n",
       "<table border=\"1\" class=\"dataframe\">\n",
       "  <thead>\n",
       "    <tr style=\"text-align: right;\">\n",
       "      <th></th>\n",
       "      <th>laterality</th>\n",
       "      <th>number_images</th>\n",
       "    </tr>\n",
       "  </thead>\n",
       "  <tbody>\n",
       "    <tr>\n",
       "      <th>0</th>\n",
       "      <td>L</td>\n",
       "      <td>27267</td>\n",
       "    </tr>\n",
       "    <tr>\n",
       "      <th>1</th>\n",
       "      <td>R</td>\n",
       "      <td>27439</td>\n",
       "    </tr>\n",
       "  </tbody>\n",
       "</table>\n",
       "</div>"
      ],
      "text/plain": [
       "  laterality  number_images\n",
       "0          L          27267\n",
       "1          R          27439"
      ]
     },
     "execution_count": 9,
     "metadata": {},
     "output_type": "execute_result"
    }
   ],
   "source": [
    "#Image records count per laterality (R) and Image records count per laterality (L)\n",
    "\n",
    "images_per_laterality = train.groupby('laterality', as_index = False) \\\n",
    "                            .agg({'image_id':'count'}) \\\n",
    "                            .rename(columns = {'image_id':'number_images'})\n",
    "images_per_laterality"
   ]
  },
  {
   "cell_type": "code",
   "execution_count": 10,
   "id": "8a12637e",
   "metadata": {},
   "outputs": [
    {
     "data": {
      "image/png": "[encoded data removed]",
      "text/plain": [
       "<Figure size 432x288 with 1 Axes>"
      ]
     },
     "metadata": {},
     "output_type": "display_data"
    }
   ],
   "source": [
    "sns.set(font_scale = 1, style= 'whitegrid')\n",
    "\n",
    "ax = sns.barplot(data=images_per_laterality, x='laterality', y = 'number_images',\n",
    "                 palette='Blues_r', hue = 'laterality')\n",
    "for i in ax.containers:\n",
    "    ax.bar_label(i,)\n",
    "\n",
    "sns.move_legend(ax, \"upper left\", bbox_to_anchor=(1, 1))\n",
    "\n",
    "plt.title(\"Laterality Visualization\\n\")\n",
    "plt.xlabel('Laterality')\n",
    "plt.ylabel('Count of images')\n",
    "sns.despine()"
   ]
  },
  {
   "cell_type": "code",
   "execution_count": 11,
   "id": "46176ffa",
   "metadata": {},
   "outputs": [
    {
     "name": "stdout",
     "output_type": "stream",
     "text": [
      "\u001b[1m\u001b[91mImage records count per laterality (R):\u001b[0m 27439 \n",
      "\u001b[1m\u001b[91mImage records count per laterality (L):\u001b[0m 27267\n"
     ]
    }
   ],
   "source": [
    "print(clr.S+\"Image records count per laterality (R):\"+clr.E, train[\"laterality\"].value_counts().values[0], \"\\n\"+\n",
    "      clr.S+\"Image records count per laterality (L):\"+clr.E, train[\"laterality\"].value_counts().values[1])"
   ]
  },
  {
   "cell_type": "markdown",
   "id": "569f0e51",
   "metadata": {},
   "source": [
    "# Laterality and View"
   ]
  },
  {
   "cell_type": "markdown",
   "id": "4bc859dd",
   "metadata": {},
   "source": [
    "view - The orientation of the image. The default for a screening exam is to capture two views per breast\n",
    "\n",
    "During a screening exam, the patient goes to an imaging center for a scheduled appointment, and the mammogram technologist will perform two standard views: **craniocaudal (CC) and mediolateral oblique (MLO)**"
   ]
  },
  {
   "cell_type": "code",
   "execution_count": 12,
   "id": "2bbdea88",
   "metadata": {},
   "outputs": [
    {
     "data": {
      "text/html": [
       "<div>\n",
       "<style scoped>\n",
       "    .dataframe tbody tr th:only-of-type {\n",
       "        vertical-align: middle;\n",
       "    }\n",
       "\n",
       "    .dataframe tbody tr th {\n",
       "        vertical-align: top;\n",
       "    }\n",
       "\n",
       "    .dataframe thead th {\n",
       "        text-align: right;\n",
       "    }\n",
       "</style>\n",
       "<table border=\"1\" class=\"dataframe\">\n",
       "  <thead>\n",
       "    <tr style=\"text-align: right;\">\n",
       "      <th></th>\n",
       "      <th>view</th>\n",
       "      <th>laterality</th>\n",
       "      <th>count_view</th>\n",
       "    </tr>\n",
       "  </thead>\n",
       "  <tbody>\n",
       "    <tr>\n",
       "      <th>9</th>\n",
       "      <td>MLO</td>\n",
       "      <td>L</td>\n",
       "      <td>13958</td>\n",
       "    </tr>\n",
       "    <tr>\n",
       "      <th>10</th>\n",
       "      <td>MLO</td>\n",
       "      <td>R</td>\n",
       "      <td>13945</td>\n",
       "    </tr>\n",
       "    <tr>\n",
       "      <th>3</th>\n",
       "      <td>CC</td>\n",
       "      <td>R</td>\n",
       "      <td>13470</td>\n",
       "    </tr>\n",
       "    <tr>\n",
       "      <th>2</th>\n",
       "      <td>CC</td>\n",
       "      <td>L</td>\n",
       "      <td>13295</td>\n",
       "    </tr>\n",
       "    <tr>\n",
       "      <th>1</th>\n",
       "      <td>AT</td>\n",
       "      <td>R</td>\n",
       "      <td>12</td>\n",
       "    </tr>\n",
       "    <tr>\n",
       "      <th>0</th>\n",
       "      <td>AT</td>\n",
       "      <td>L</td>\n",
       "      <td>7</td>\n",
       "    </tr>\n",
       "    <tr>\n",
       "      <th>5</th>\n",
       "      <td>LM</td>\n",
       "      <td>R</td>\n",
       "      <td>6</td>\n",
       "    </tr>\n",
       "    <tr>\n",
       "      <th>8</th>\n",
       "      <td>ML</td>\n",
       "      <td>R</td>\n",
       "      <td>5</td>\n",
       "    </tr>\n",
       "    <tr>\n",
       "      <th>4</th>\n",
       "      <td>LM</td>\n",
       "      <td>L</td>\n",
       "      <td>4</td>\n",
       "    </tr>\n",
       "    <tr>\n",
       "      <th>7</th>\n",
       "      <td>ML</td>\n",
       "      <td>L</td>\n",
       "      <td>3</td>\n",
       "    </tr>\n",
       "    <tr>\n",
       "      <th>6</th>\n",
       "      <td>LMO</td>\n",
       "      <td>R</td>\n",
       "      <td>1</td>\n",
       "    </tr>\n",
       "  </tbody>\n",
       "</table>\n",
       "</div>"
      ],
      "text/plain": [
       "   view laterality  count_view\n",
       "9   MLO          L       13958\n",
       "10  MLO          R       13945\n",
       "3    CC          R       13470\n",
       "2    CC          L       13295\n",
       "1    AT          R          12\n",
       "0    AT          L           7\n",
       "5    LM          R           6\n",
       "8    ML          R           5\n",
       "4    LM          L           4\n",
       "7    ML          L           3\n",
       "6   LMO          R           1"
      ]
     },
     "execution_count": 12,
     "metadata": {},
     "output_type": "execute_result"
    }
   ],
   "source": [
    "images_per_view = train.groupby(['view', 'laterality'], as_index=False) \\\n",
    "                        .agg({'image_id':'count'}) \\\n",
    "                        .sort_values('image_id', ascending = False) \\\n",
    "                        .rename(columns={'image_id':'count_view'})\n",
    "images_per_view"
   ]
  },
  {
   "cell_type": "code",
   "execution_count": 13,
   "id": "dd007bfd",
   "metadata": {},
   "outputs": [
    {
     "data": {
      "image/png": "[encoded data removed]",
      "text/plain": [
       "<Figure size 864x360 with 1 Axes>"
      ]
     },
     "metadata": {},
     "output_type": "display_data"
    }
   ],
   "source": [
    "plt.figure(figsize=(12,5))\n",
    "ax = sns.barplot(data=images_per_view, x = 'view', y = 'count_view', palette='Blues_r', hue = 'laterality')\n",
    "# for i in ax.containers:\n",
    "#     ax.bar_label(i,)\n",
    "#     sns.move_legend(ax, \"upper left\", bbox_to_anchor=(1, 1))\n",
    "for p in ax.patches:\n",
    "        percentage = f'{100 * p.get_height() / t:.2f}%\\n'\n",
    "        ax.annotate(percentage, (p.get_x() + p.get_width() / 2,p.get_height()), ha='center', va='center')\n",
    "\n",
    "sns.move_legend(ax, \"upper left\", bbox_to_anchor=(1, 1))\n",
    "plt.title(\"View with Laterality\\n\")\n",
    "plt.xlabel('View')\n",
    "plt.ylabel('Count of images')\n",
    "sns.despine()"
   ]
  },
  {
   "cell_type": "code",
   "execution_count": 14,
   "id": "92e4e6da",
   "metadata": {},
   "outputs": [
    {
     "name": "stdout",
     "output_type": "stream",
     "text": [
      "-------------------------------------------------\n",
      "\u001b[1m\u001b[91mImage records count per View:\u001b[0m\n",
      "MLO    27903\n",
      "CC     26765\n",
      "AT        19\n",
      "LM        10\n",
      "ML         8\n",
      "LMO        1\n",
      "Name: view, dtype: int64\n"
     ]
    }
   ],
   "source": [
    "print(\"-------------------------------------------------\")\n",
    "print(clr.S+\"Image records count per View:\"+clr.E)\n",
    "print(train[\"view\"].value_counts())"
   ]
  },
  {
   "cell_type": "markdown",
   "id": "7568e343",
   "metadata": {},
   "source": [
    "**Image records count per View means the orientation of the image.**\n",
    "\n",
    "The values for this variable are:\n",
    "- MLO (mediolateral oblique) - 27903 images\n",
    "- CC (craniocaudal) - 26765 images\n",
    "- AT (axillary tail) - 19 images\n",
    "- LM (latero-medial) - 10 images\n",
    "- ML (medio-lateral) - 8 images\n",
    "- LMO (latero-medial oblique) - 1 images"
   ]
  },
  {
   "cell_type": "code",
   "execution_count": null,
   "id": "d3eb6224",
   "metadata": {},
   "outputs": [],
   "source": []
  },
  {
   "cell_type": "markdown",
   "id": "4461ffd3",
   "metadata": {},
   "source": [
    "# Age Distribution"
   ]
  },
  {
   "cell_type": "code",
   "execution_count": 43,
   "id": "d05da145",
   "metadata": {},
   "outputs": [
    {
     "name": "stderr",
     "output_type": "stream",
     "text": [
      "C:\\ProgramData\\Anaconda3\\lib\\site-packages\\seaborn\\distributions.py:2619: FutureWarning: `distplot` is a deprecated function and will be removed in a future version. Please adapt your code to use either `displot` (a figure-level function with similar flexibility) or `kdeplot` (an axes-level function for kernel density plots).\n",
      "  warnings.warn(msg, FutureWarning)\n",
      "C:\\ProgramData\\Anaconda3\\lib\\site-packages\\seaborn\\distributions.py:2103: FutureWarning: The `axis` variable is no longer used and will be removed. Instead, assign variables directly to `x` or `y`.\n",
      "  warnings.warn(msg, FutureWarning)\n"
     ]
    },
    {
     "data": {
      "image/png": "[encoded data removed]",
      "text/plain": [
       "<Figure size 1728x1080 with 2 Axes>"
      ]
     },
     "metadata": {},
     "output_type": "display_data"
    }
   ],
   "source": [
    "f, (a0, a1) = plt.subplots(2, 1, gridspec_kw={'height_ratios': [3, 1]}, figsize=(24, 15))\n",
    "sns.distplot(a=train[\"age\"], rug=True, hist=False, \n",
    "             rug_kws={\"color\": my_colors[6]},\n",
    "             kde_kws={\"color\": my_colors[6], \"lw\": 5, \"alpha\": 0.7},\n",
    "             ax=a0)\n",
    "\n",
    "a0.axvline(x=58, ls=\":\", lw=2, color=\"black\")\n",
    "a0.text(x=58.5, y=0.018, s=\"mean: 58\", size=17, color=\"black\", weight=\"bold\")\n",
    "a0.axvline(x=26, ls=\":\", lw=2, color=\"black\")\n",
    "a0.text(x=26.5, y=0.008, s=\"min: 26\", size=17, color=\"black\", weight=\"bold\")\n",
    "a0.axvline(x=89, ls=\":\", lw=2, color=\"black\")\n",
    "a0.text(x=84, y=0.037, s=\"max: 89\", size=17, color=\"black\", weight=\"bold\")\n",
    "\n",
    "sns.boxenplot(x=train[\"age\"], ax=a1, color=my_colors[2])\n",
    "\n",
    "plt.suptitle(\"Age Distribution\", weight=\"bold\", size=25)\n",
    "sns.despine(right=True, top=True, left=True);"
   ]
  },
  {
   "cell_type": "code",
   "execution_count": 23,
   "id": "4c67e78d",
   "metadata": {},
   "outputs": [
    {
     "data": {
      "image/png": "[encoded data removed]",
      "text/plain": [
       "<Figure size 1440x576 with 1 Axes>"
      ]
     },
     "metadata": {},
     "output_type": "display_data"
    }
   ],
   "source": [
    "#age distribution\n",
    "age_df = train[train.age.isnull() == False].groupby('patient_id')['age'].apply(lambda x: (np.unique(x)[0]))\n",
    "\n",
    "plt.figure(figsize=(20,8))\n",
    "ax = sns.histplot(age_df, bins=60,kde=True,color=my_colors[6]) \n",
    "ax.grid(axis='y', linestyle='-', alpha=0.4)\n",
    "\n",
    "sns.set_style(\"whitegrid\")\n",
    "ax.text(x=0.2, y=0.97, transform=ax.transAxes, s=\"Skewness : %f\" % age_df.skew(),fontsize=14, color='blue', fontweight='bold', verticalalignment='top', horizontalalignment='right')\n",
    "ax.text(x=0.2, y=0.91, transform=ax.transAxes, s=\"Kurtosis : %f\" % age_df.kurt(),fontsize=14, color='blue', fontweight='bold', verticalalignment='top', horizontalalignment='right')\n",
    "\n",
    "for p in ax.patches:\n",
    "    percentage = f'{100 * p.get_height() / age_df.shape[0]:.2f}%\\n'\n",
    "    plt.annotate(percentage, (p.get_x() + p.get_width() / 2,p.get_height()), ha='center', va='center')\n",
    "    ax.set_title(\"\\nAge Wise Distribution of Patients\", fontsize=15, fontweight='bold')\n",
    "\n",
    "plt.show()\n"
   ]
  },
  {
   "cell_type": "markdown",
   "id": "2a28af32",
   "metadata": {},
   "source": [
    "Age is having a positive skew but of only 0.103443 and kurtosis as -0.354158\n",
    "\n",
    "There is a peek in age between 67-69."
   ]
  },
  {
   "cell_type": "code",
   "execution_count": 17,
   "id": "90425d24",
   "metadata": {},
   "outputs": [
    {
     "name": "stdout",
     "output_type": "stream",
     "text": [
      "\u001b[1mAge is having max value : 89.0\n",
      "\u001b[1mAge is having median value : 59.0\n"
     ]
    }
   ],
   "source": [
    "# max_age and mean_age\n",
    "print(f\"\\033[1mAge is having max value : {train['age'].max()}\")\n",
    "print(f\"\\033[1mAge is having median value : {round(train['age'].mean(), 0)}\")"
   ]
  },
  {
   "cell_type": "code",
   "execution_count": 18,
   "id": "3b5e84f8",
   "metadata": {},
   "outputs": [
    {
     "data": {
      "text/plain": [
       "Text(0.5, 1.0, 'Patients without / with cancer')"
      ]
     },
     "execution_count": 18,
     "metadata": {},
     "output_type": "execute_result"
    },
    {
     "data": {
      "image/png": "[encoded data removed]",
      "text/plain": [
       "<Figure size 432x288 with 1 Axes>"
      ]
     },
     "metadata": {},
     "output_type": "display_data"
    }
   ],
   "source": [
    "sns.violinplot(x = train.cancer, y = train.age, palette='flare')\n",
    "plt.title(\"Patients without / with cancer\", fontsize=15)"
   ]
  },
  {
   "cell_type": "code",
   "execution_count": 19,
   "id": "89b9cf48",
   "metadata": {},
   "outputs": [
    {
     "name": "stdout",
     "output_type": "stream",
     "text": [
      "\u001b[1mAge is having median value for patients with cancer: 63.0\n",
      "\u001b[1mAge is having median value for patients without cancer: 59.0\n"
     ]
    }
   ],
   "source": [
    "print(f\"\\033[1mAge is having median value for patients with cancer: {round(train[train['cancer'] == 1].groupby('patient_id')['age'].apply(lambda x: x.unique()[0]).mean(), 0)}\")\n",
    "print(f\"\\033[1mAge is having median value for patients without cancer: {round(train[train['cancer'] == 0].groupby('patient_id')['age'].apply(lambda x: x.unique()[0]).mean(), 0)}\")"
   ]
  },
  {
   "cell_type": "code",
   "execution_count": 20,
   "id": "bee922b2",
   "metadata": {},
   "outputs": [
    {
     "name": "stdout",
     "output_type": "stream",
     "text": [
      "\u001b[1mAge is having max value for patients with cancer: 89.0\n",
      "\u001b[1mAge is having max value for patients without cancer: 89.0\n"
     ]
    }
   ],
   "source": [
    "print(f\"\\033[1mAge is having max value for patients with cancer: {round(train[train['cancer'] == 1].groupby('patient_id')['age'].apply(lambda x: x.unique()[0]).max(), 0)}\")\n",
    "print(f\"\\033[1mAge is having max value for patients without cancer: {round(train[train['cancer'] == 0].groupby('patient_id')['age'].apply(lambda x: x.unique()[0]).max(), 0)}\")"
   ]
  },
  {
   "cell_type": "code",
   "execution_count": null,
   "id": "d14ff49f",
   "metadata": {
    "scrolled": true
   },
   "outputs": [],
   "source": []
  },
  {
   "cell_type": "markdown",
   "id": "1d10811d",
   "metadata": {},
   "source": [
    "# BIRADS\n",
    "\n",
    "0 if the breast required follow-up,\n",
    "\n",
    "1 if the breast was rated as negative for cancer,\n",
    "\n",
    "2 if the breast was rated as normal"
   ]
  },
  {
   "cell_type": "code",
   "execution_count": 23,
   "id": "ef789156",
   "metadata": {},
   "outputs": [
    {
     "data": {
      "image/png": "[encoded data removed]",
      "text/plain": [
       "<Figure size 1080x360 with 1 Axes>"
      ]
     },
     "metadata": {},
     "output_type": "display_data"
    }
   ],
   "source": [
    "plt.figure(figsize=(15,5))\n",
    "temp = train.copy();temp.BIRADS.fillna('Null', inplace=True)\n",
    "\n",
    "ax = sns.countplot(data = temp, x = 'BIRADS', hue='cancer', palette='rocket')\n",
    "t=train.shape[0];ax.set_title('BIRADS Visualization', fontweight='bold')\n",
    "\n",
    "for p in ax.patches:\n",
    "    percentage = f'{100 * p.get_height() / t:.3f}%\\n';x = p.get_x() + p.get_width() / 2 ; y = p.get_height();\n",
    "    ax.annotate(percentage, (x, y), ha='center', va='center');ax.grid(axis='y', linestyle='-', alpha=0.4) \n",
    "    \n",
    "plt.show()"
   ]
  },
  {
   "cell_type": "code",
   "execution_count": 30,
   "id": "b609dd72",
   "metadata": {},
   "outputs": [
    {
     "name": "stdout",
     "output_type": "stream",
     "text": [
      "\u001b[1m\u001b[91mMore than 50% of records do not have information on BIRADS\u001b[0m\n",
      "\u001b[1m\u001b[91mFor more than 13% of records BIRADS is 0\u001b[0m\n",
      "\u001b[1m\u001b[91mBIRADS = 0 means abnormality, that warranted further evaluation additional imagine\u001b[0m\n"
     ]
    }
   ],
   "source": [
    "print(clr.S+\"More than 50% of records do not have information on BIRADS\"+clr.E)\n",
    "print(clr.S+\"For more than 13% of records BIRADS is 0\"+clr.E)\n",
    "print(clr.S+\"BIRADS = 0 means abnormality, that warranted further evaluation additional imagine\"+clr.E)"
   ]
  },
  {
   "cell_type": "code",
   "execution_count": null,
   "id": "d48599a7",
   "metadata": {},
   "outputs": [],
   "source": []
  },
  {
   "cell_type": "markdown",
   "id": "bc778d58",
   "metadata": {},
   "source": [
    "# Implants"
   ]
  },
  {
   "cell_type": "code",
   "execution_count": 26,
   "id": "695db923",
   "metadata": {},
   "outputs": [
    {
     "data": {
      "text/html": [
       "<div>\n",
       "<style scoped>\n",
       "    .dataframe tbody tr th:only-of-type {\n",
       "        vertical-align: middle;\n",
       "    }\n",
       "\n",
       "    .dataframe tbody tr th {\n",
       "        vertical-align: top;\n",
       "    }\n",
       "\n",
       "    .dataframe thead th {\n",
       "        text-align: right;\n",
       "    }\n",
       "</style>\n",
       "<table border=\"1\" class=\"dataframe\">\n",
       "  <thead>\n",
       "    <tr style=\"text-align: right;\">\n",
       "      <th></th>\n",
       "      <th>cancer</th>\n",
       "      <th>implant</th>\n",
       "      <th>implant_had_percentage</th>\n",
       "    </tr>\n",
       "  </thead>\n",
       "  <tbody>\n",
       "    <tr>\n",
       "      <th>0</th>\n",
       "      <td>0</td>\n",
       "      <td>0</td>\n",
       "      <td>97.27</td>\n",
       "    </tr>\n",
       "    <tr>\n",
       "      <th>1</th>\n",
       "      <td>0</td>\n",
       "      <td>1</td>\n",
       "      <td>2.73</td>\n",
       "    </tr>\n",
       "    <tr>\n",
       "      <th>2</th>\n",
       "      <td>1</td>\n",
       "      <td>0</td>\n",
       "      <td>98.88</td>\n",
       "    </tr>\n",
       "    <tr>\n",
       "      <th>3</th>\n",
       "      <td>1</td>\n",
       "      <td>1</td>\n",
       "      <td>1.12</td>\n",
       "    </tr>\n",
       "  </tbody>\n",
       "</table>\n",
       "</div>"
      ],
      "text/plain": [
       "   cancer  implant  implant_had_percentage\n",
       "0       0        0                   97.27\n",
       "1       0        1                    2.73\n",
       "2       1        0                   98.88\n",
       "3       1        1                    1.12"
      ]
     },
     "execution_count": 26,
     "metadata": {},
     "output_type": "execute_result"
    }
   ],
   "source": [
    "#implant - Whether or not the patient had breast implants.\n",
    "#Site 1 only provides breast implant information at the patient level, not at the breast level.\n",
    "\n",
    "train.groupby('cancer').implant \\\n",
    "        .value_counts(normalize=True) \\\n",
    "        .mul(100) \\\n",
    "        .round(2) \\\n",
    "        .reset_index(name='implant_had_percentage')\n",
    "\n",
    "# 2.73% of patients with implant have cancer status as False\n",
    "# 1.12% of patients with implant have cancer status as True\n"
   ]
  },
  {
   "cell_type": "code",
   "execution_count": 27,
   "id": "91bde77a",
   "metadata": {},
   "outputs": [
    {
     "data": {
      "text/html": [
       "<div>\n",
       "<style scoped>\n",
       "    .dataframe tbody tr th:only-of-type {\n",
       "        vertical-align: middle;\n",
       "    }\n",
       "\n",
       "    .dataframe tbody tr th {\n",
       "        vertical-align: top;\n",
       "    }\n",
       "\n",
       "    .dataframe thead th {\n",
       "        text-align: right;\n",
       "    }\n",
       "</style>\n",
       "<table border=\"1\" class=\"dataframe\">\n",
       "  <thead>\n",
       "    <tr style=\"text-align: right;\">\n",
       "      <th></th>\n",
       "      <th>site_id</th>\n",
       "      <th>patient_id</th>\n",
       "      <th>image_id</th>\n",
       "      <th>laterality</th>\n",
       "      <th>view</th>\n",
       "      <th>age</th>\n",
       "      <th>cancer</th>\n",
       "      <th>biopsy</th>\n",
       "      <th>invasive</th>\n",
       "      <th>BIRADS</th>\n",
       "      <th>implant</th>\n",
       "      <th>density</th>\n",
       "      <th>machine_id</th>\n",
       "      <th>difficult_negative_case</th>\n",
       "    </tr>\n",
       "  </thead>\n",
       "  <tbody>\n",
       "    <tr>\n",
       "      <th>793</th>\n",
       "      <td>1</td>\n",
       "      <td>10851</td>\n",
       "      <td>808241086</td>\n",
       "      <td>L</td>\n",
       "      <td>MLO</td>\n",
       "      <td>76.0</td>\n",
       "      <td>0</td>\n",
       "      <td>0</td>\n",
       "      <td>0</td>\n",
       "      <td>0.0</td>\n",
       "      <td>1</td>\n",
       "      <td>B</td>\n",
       "      <td>49</td>\n",
       "      <td>True</td>\n",
       "    </tr>\n",
       "    <tr>\n",
       "      <th>794</th>\n",
       "      <td>1</td>\n",
       "      <td>10851</td>\n",
       "      <td>1120382217</td>\n",
       "      <td>L</td>\n",
       "      <td>CC</td>\n",
       "      <td>76.0</td>\n",
       "      <td>0</td>\n",
       "      <td>0</td>\n",
       "      <td>0</td>\n",
       "      <td>0.0</td>\n",
       "      <td>1</td>\n",
       "      <td>B</td>\n",
       "      <td>49</td>\n",
       "      <td>True</td>\n",
       "    </tr>\n",
       "    <tr>\n",
       "      <th>795</th>\n",
       "      <td>1</td>\n",
       "      <td>10851</td>\n",
       "      <td>1285202241</td>\n",
       "      <td>L</td>\n",
       "      <td>MLO</td>\n",
       "      <td>76.0</td>\n",
       "      <td>0</td>\n",
       "      <td>0</td>\n",
       "      <td>0</td>\n",
       "      <td>0.0</td>\n",
       "      <td>1</td>\n",
       "      <td>B</td>\n",
       "      <td>49</td>\n",
       "      <td>True</td>\n",
       "    </tr>\n",
       "    <tr>\n",
       "      <th>796</th>\n",
       "      <td>1</td>\n",
       "      <td>10851</td>\n",
       "      <td>1441952045</td>\n",
       "      <td>L</td>\n",
       "      <td>MLO</td>\n",
       "      <td>76.0</td>\n",
       "      <td>0</td>\n",
       "      <td>0</td>\n",
       "      <td>0</td>\n",
       "      <td>0.0</td>\n",
       "      <td>1</td>\n",
       "      <td>B</td>\n",
       "      <td>49</td>\n",
       "      <td>True</td>\n",
       "    </tr>\n",
       "    <tr>\n",
       "      <th>797</th>\n",
       "      <td>1</td>\n",
       "      <td>10851</td>\n",
       "      <td>1547415696</td>\n",
       "      <td>L</td>\n",
       "      <td>CC</td>\n",
       "      <td>76.0</td>\n",
       "      <td>0</td>\n",
       "      <td>0</td>\n",
       "      <td>0</td>\n",
       "      <td>0.0</td>\n",
       "      <td>1</td>\n",
       "      <td>B</td>\n",
       "      <td>49</td>\n",
       "      <td>True</td>\n",
       "    </tr>\n",
       "    <tr>\n",
       "      <th>...</th>\n",
       "      <td>...</td>\n",
       "      <td>...</td>\n",
       "      <td>...</td>\n",
       "      <td>...</td>\n",
       "      <td>...</td>\n",
       "      <td>...</td>\n",
       "      <td>...</td>\n",
       "      <td>...</td>\n",
       "      <td>...</td>\n",
       "      <td>...</td>\n",
       "      <td>...</td>\n",
       "      <td>...</td>\n",
       "      <td>...</td>\n",
       "      <td>...</td>\n",
       "    </tr>\n",
       "    <tr>\n",
       "      <th>54574</th>\n",
       "      <td>1</td>\n",
       "      <td>9814</td>\n",
       "      <td>443154885</td>\n",
       "      <td>L</td>\n",
       "      <td>MLO</td>\n",
       "      <td>61.0</td>\n",
       "      <td>0</td>\n",
       "      <td>0</td>\n",
       "      <td>0</td>\n",
       "      <td>1.0</td>\n",
       "      <td>1</td>\n",
       "      <td>A</td>\n",
       "      <td>49</td>\n",
       "      <td>False</td>\n",
       "    </tr>\n",
       "    <tr>\n",
       "      <th>54575</th>\n",
       "      <td>1</td>\n",
       "      <td>9814</td>\n",
       "      <td>1064110749</td>\n",
       "      <td>L</td>\n",
       "      <td>CC</td>\n",
       "      <td>61.0</td>\n",
       "      <td>0</td>\n",
       "      <td>0</td>\n",
       "      <td>0</td>\n",
       "      <td>1.0</td>\n",
       "      <td>1</td>\n",
       "      <td>A</td>\n",
       "      <td>49</td>\n",
       "      <td>False</td>\n",
       "    </tr>\n",
       "    <tr>\n",
       "      <th>54576</th>\n",
       "      <td>1</td>\n",
       "      <td>9814</td>\n",
       "      <td>12369795</td>\n",
       "      <td>R</td>\n",
       "      <td>MLO</td>\n",
       "      <td>61.0</td>\n",
       "      <td>0</td>\n",
       "      <td>0</td>\n",
       "      <td>0</td>\n",
       "      <td>1.0</td>\n",
       "      <td>1</td>\n",
       "      <td>A</td>\n",
       "      <td>49</td>\n",
       "      <td>False</td>\n",
       "    </tr>\n",
       "    <tr>\n",
       "      <th>54577</th>\n",
       "      <td>1</td>\n",
       "      <td>9814</td>\n",
       "      <td>1149002441</td>\n",
       "      <td>R</td>\n",
       "      <td>CC</td>\n",
       "      <td>61.0</td>\n",
       "      <td>0</td>\n",
       "      <td>0</td>\n",
       "      <td>0</td>\n",
       "      <td>1.0</td>\n",
       "      <td>1</td>\n",
       "      <td>A</td>\n",
       "      <td>49</td>\n",
       "      <td>False</td>\n",
       "    </tr>\n",
       "    <tr>\n",
       "      <th>54578</th>\n",
       "      <td>1</td>\n",
       "      <td>9814</td>\n",
       "      <td>1970727865</td>\n",
       "      <td>R</td>\n",
       "      <td>MLO</td>\n",
       "      <td>61.0</td>\n",
       "      <td>0</td>\n",
       "      <td>0</td>\n",
       "      <td>0</td>\n",
       "      <td>1.0</td>\n",
       "      <td>1</td>\n",
       "      <td>A</td>\n",
       "      <td>49</td>\n",
       "      <td>False</td>\n",
       "    </tr>\n",
       "  </tbody>\n",
       "</table>\n",
       "<p>1465 rows × 14 columns</p>\n",
       "</div>"
      ],
      "text/plain": [
       "       site_id  patient_id    image_id laterality view   age  cancer  biopsy  \\\n",
       "793          1       10851   808241086          L  MLO  76.0       0       0   \n",
       "794          1       10851  1120382217          L   CC  76.0       0       0   \n",
       "795          1       10851  1285202241          L  MLO  76.0       0       0   \n",
       "796          1       10851  1441952045          L  MLO  76.0       0       0   \n",
       "797          1       10851  1547415696          L   CC  76.0       0       0   \n",
       "...        ...         ...         ...        ...  ...   ...     ...     ...   \n",
       "54574        1        9814   443154885          L  MLO  61.0       0       0   \n",
       "54575        1        9814  1064110749          L   CC  61.0       0       0   \n",
       "54576        1        9814    12369795          R  MLO  61.0       0       0   \n",
       "54577        1        9814  1149002441          R   CC  61.0       0       0   \n",
       "54578        1        9814  1970727865          R  MLO  61.0       0       0   \n",
       "\n",
       "       invasive  BIRADS  implant density  machine_id  difficult_negative_case  \n",
       "793           0     0.0        1       B          49                     True  \n",
       "794           0     0.0        1       B          49                     True  \n",
       "795           0     0.0        1       B          49                     True  \n",
       "796           0     0.0        1       B          49                     True  \n",
       "797           0     0.0        1       B          49                     True  \n",
       "...         ...     ...      ...     ...         ...                      ...  \n",
       "54574         0     1.0        1       A          49                    False  \n",
       "54575         0     1.0        1       A          49                    False  \n",
       "54576         0     1.0        1       A          49                    False  \n",
       "54577         0     1.0        1       A          49                    False  \n",
       "54578         0     1.0        1       A          49                    False  \n",
       "\n",
       "[1465 rows x 14 columns]"
      ]
     },
     "execution_count": 27,
     "metadata": {},
     "output_type": "execute_result"
    }
   ],
   "source": [
    "implant_patients = train.query('implant == 1') \\\n",
    "    .groupby(['patient_id', 'laterality'], as_index = False) \\\n",
    "    #.agg({'implant':'count'}) \\\n",
    "    #.sort_values('patient_id')\n",
    "implant_patients.head()"
   ]
  },
  {
   "cell_type": "code",
   "execution_count": 28,
   "id": "b91d6aa1",
   "metadata": {},
   "outputs": [
    {
     "name": "stdout",
     "output_type": "stream",
     "text": [
      "\u001b[1mNumber of Patients with Implants : 171\n"
     ]
    }
   ],
   "source": [
    "print(f\"\\033[1mNumber of Patients with Implants : {train.query('implant == 1').patient_id.nunique()}\")"
   ]
  },
  {
   "cell_type": "code",
   "execution_count": 29,
   "id": "53fdd7aa",
   "metadata": {},
   "outputs": [
    {
     "name": "stdout",
     "output_type": "stream",
     "text": [
      "\u001b[1mPercent of Patients with Implants : 1.4354066985645932\n"
     ]
    }
   ],
   "source": [
    "persentage_implant = 100 * train.query('implant == 1').patient_id.nunique() / train.patient_id.nunique()\n",
    "print(f\"\\033[1mPercent of Patients with Implants : {persentage_implant}\")"
   ]
  },
  {
   "cell_type": "code",
   "execution_count": 30,
   "id": "fb8622c6",
   "metadata": {},
   "outputs": [
    {
     "name": "stdout",
     "output_type": "stream",
     "text": [
      "There are only 1477 images that contain implants\n"
     ]
    }
   ],
   "source": [
    "#how many images are there with implants?\n",
    "train.query('implant == 1').agg({'image_id':'count'})\n",
    "print('There are only 1477 images that contain implants')"
   ]
  },
  {
   "cell_type": "code",
   "execution_count": 35,
   "id": "8af5b0f0",
   "metadata": {},
   "outputs": [
    {
     "data": {
      "text/plain": [
       "<AxesSubplot:xlabel='implant', ylabel='count'>"
      ]
     },
     "execution_count": 35,
     "metadata": {},
     "output_type": "execute_result"
    },
    {
     "data": {
      "image/png": "[encoded data removed]",
      "text/plain": [
       "<Figure size 432x288 with 1 Axes>"
      ]
     },
     "metadata": {},
     "output_type": "display_data"
    }
   ],
   "source": [
    "sns.countplot(x = train.implant, palette='rocket')"
   ]
  },
  {
   "cell_type": "code",
   "execution_count": null,
   "id": "8ed49d05",
   "metadata": {},
   "outputs": [],
   "source": []
  },
  {
   "cell_type": "markdown",
   "id": "25833372",
   "metadata": {},
   "source": [
    "# BIRADS and implants\n",
    "Does the presence of implants affect the screening diagnosis and BIRADS?"
   ]
  },
  {
   "cell_type": "code",
   "execution_count": 31,
   "id": "b8c370d5",
   "metadata": {},
   "outputs": [],
   "source": [
    "train['BIRADS'] = train['BIRADS'].fillna('10')\n",
    "#instead of 'Null' BIRADS gets '10'"
   ]
  },
  {
   "cell_type": "code",
   "execution_count": 32,
   "id": "a3af621b",
   "metadata": {},
   "outputs": [
    {
     "data": {
      "text/html": [
       "<div>\n",
       "<style scoped>\n",
       "    .dataframe tbody tr th:only-of-type {\n",
       "        vertical-align: middle;\n",
       "    }\n",
       "\n",
       "    .dataframe tbody tr th {\n",
       "        vertical-align: top;\n",
       "    }\n",
       "\n",
       "    .dataframe thead th {\n",
       "        text-align: right;\n",
       "    }\n",
       "</style>\n",
       "<table border=\"1\" class=\"dataframe\">\n",
       "  <thead>\n",
       "    <tr style=\"text-align: right;\">\n",
       "      <th></th>\n",
       "      <th>BIRADS</th>\n",
       "      <th>patient_id</th>\n",
       "      <th>cancer</th>\n",
       "    </tr>\n",
       "  </thead>\n",
       "  <tbody>\n",
       "    <tr>\n",
       "      <th>0</th>\n",
       "      <td>0.0</td>\n",
       "      <td>3287</td>\n",
       "      <td>2</td>\n",
       "    </tr>\n",
       "    <tr>\n",
       "      <th>1</th>\n",
       "      <td>1.0</td>\n",
       "      <td>3151</td>\n",
       "      <td>1</td>\n",
       "    </tr>\n",
       "    <tr>\n",
       "      <th>2</th>\n",
       "      <td>2.0</td>\n",
       "      <td>604</td>\n",
       "      <td>1</td>\n",
       "    </tr>\n",
       "    <tr>\n",
       "      <th>3</th>\n",
       "      <td>10</td>\n",
       "      <td>8350</td>\n",
       "      <td>2</td>\n",
       "    </tr>\n",
       "  </tbody>\n",
       "</table>\n",
       "</div>"
      ],
      "text/plain": [
       "  BIRADS  patient_id  cancer\n",
       "0    0.0        3287       2\n",
       "1    1.0        3151       1\n",
       "2    2.0         604       1\n",
       "3     10        8350       2"
      ]
     },
     "execution_count": 32,
     "metadata": {},
     "output_type": "execute_result"
    }
   ],
   "source": [
    "train.groupby('BIRADS', as_index = False).agg({'patient_id':'nunique', 'cancer':'nunique'})\n",
    "\n",
    "#we have 8350 unique patients who have BIRADS = 10"
   ]
  },
  {
   "cell_type": "code",
   "execution_count": 33,
   "id": "595b889a",
   "metadata": {},
   "outputs": [
    {
     "name": "stdout",
     "output_type": "stream",
     "text": [
      "\u001b[1mNumbers of unique patients who have BIRADS = NaN and cancer = True: 234\n"
     ]
    }
   ],
   "source": [
    "BIRADS_cnacer = train.query(\"BIRADS == '10' and cancer == 1\")['patient_id'].nunique()\n",
    "\n",
    "print(f\"\\033[1mNumbers of unique patients who have BIRADS = NaN and cancer = True: {BIRADS_cnacer}\")"
   ]
  },
  {
   "cell_type": "code",
   "execution_count": 34,
   "id": "6bf4f44b",
   "metadata": {},
   "outputs": [
    {
     "name": "stdout",
     "output_type": "stream",
     "text": [
      "\u001b[1mNumbers of unique patients who have BIRADS = NaN and cancer = False: 8346\n"
     ]
    }
   ],
   "source": [
    "BIRADS_cnacer = train.query(\"BIRADS == '10' and cancer == 0\")['patient_id'].nunique()\n",
    "\n",
    "print(f\"\\033[1mNumbers of unique patients who have BIRADS = NaN and cancer = False: {BIRADS_cnacer}\")"
   ]
  },
  {
   "cell_type": "code",
   "execution_count": 35,
   "id": "656031b9",
   "metadata": {},
   "outputs": [
    {
     "name": "stdout",
     "output_type": "stream",
     "text": [
      "\u001b[1mTraning data have BIRADS, density have more than 45% null values, test data there is no null value\n"
     ]
    }
   ],
   "source": [
    "print(\"\\033[1mTraning data have BIRADS, density have more than 45% null values, test data there is no null value\")"
   ]
  },
  {
   "cell_type": "code",
   "execution_count": 36,
   "id": "f3e6c2ad",
   "metadata": {},
   "outputs": [
    {
     "name": "stdout",
     "output_type": "stream",
     "text": [
      "\u001b[1mNumbers of unique patients who have Implants = True and cancer = True: 3\n"
     ]
    }
   ],
   "source": [
    "ImplantTrue_cancerTrue = train.query(\"implant == 1 and cancer == 1\")['patient_id'].nunique()\n",
    "print(f\"\\033[1mNumbers of unique patients who have Implants = True and cancer = True: {ImplantTrue_cancerTrue}\")"
   ]
  },
  {
   "cell_type": "code",
   "execution_count": 37,
   "id": "676128fc",
   "metadata": {},
   "outputs": [
    {
     "name": "stdout",
     "output_type": "stream",
     "text": [
      "\u001b[1mNumbers of unique patients who have Implants = True and cancer = False: 171\n"
     ]
    }
   ],
   "source": [
    "ImplantTrue_cancerFalse = train.query(\"implant == 1 and cancer == 0\")['patient_id'].nunique()\n",
    "print(f\"\\033[1mNumbers of unique patients who have Implants = True and cancer = False: {ImplantTrue_cancerFalse}\")"
   ]
  },
  {
   "cell_type": "code",
   "execution_count": 39,
   "id": "328233a7",
   "metadata": {},
   "outputs": [
    {
     "data": {
      "image/png": "[encoded data removed]",
      "text/plain": [
       "<Figure size 1152x288 with 3 Axes>"
      ]
     },
     "metadata": {},
     "output_type": "display_data"
    }
   ],
   "source": [
    "fig, ax = plt.subplots(1, 3, figsize=(16, 4))\n",
    "sns.countplot(x = train[train['cancer'] == True]['invasive'], ax=ax[0], palette='Reds')\n",
    "sns.countplot(x = train[train['cancer'] == False]['BIRADS'], order=[0, 1, 2], ax=ax[1], palette='Blues')\n",
    "sns.countplot(x = train[train['cancer'] == True]['BIRADS'], order=[0, 1, 2], ax=ax[2], palette='Blues')\n",
    "ax[0].set_title(\"Count of invasive cancer images\")\n",
    "ax[1].set_title(\"BIRADS for healthy images\")\n",
    "ax[2].set_title(\"BIRADS for cancer images\")\n",
    "plt.show()"
   ]
  },
  {
   "cell_type": "code",
   "execution_count": null,
   "id": "c52b2b15",
   "metadata": {},
   "outputs": [],
   "source": []
  },
  {
   "cell_type": "markdown",
   "id": "cf16b97f",
   "metadata": {},
   "source": [
    "# Laterality And View\n",
    "\n",
    "<p style=\"font-family: Arial; font-size:1.4em;color:blue;\">\n",
    "laterality - Whether the image is of the left or right breast </p>\n",
    "<p style=\"font-family: Arial; font-size:1.4em;color:blue;\">\n",
    "view - The orientation of the image. The default for a screening exam is to capture two views per breast\n",
    "</p>\n",
    "\n",
    "\n",
    "During a screening exam, the patient goes to an imaging center for a scheduled appointment,\n",
    "and the mammogram technologist will perform two standard views:\n",
    "craniocaudal (CC) and mediolateral oblique (MLO)"
   ]
  },
  {
   "cell_type": "code",
   "execution_count": 38,
   "id": "e0ecc6c9",
   "metadata": {},
   "outputs": [
    {
     "data": {
      "image/png": "[encoded data removed]",
      "text/plain": [
       "<Figure size 1080x864 with 2 Axes>"
      ]
     },
     "metadata": {},
     "output_type": "display_data"
    }
   ],
   "source": [
    "fig, ax = plt.subplots(2,1, figsize=(15,12)) \n",
    "\n",
    "sns.countplot(data=train, x='laterality',palette= 'mako_r', ax=ax[0])\n",
    "sns.countplot(data=train, x='view', hue='laterality',palette=\"mako_r\", ax=ax[1])\n",
    "t = train.shape[0]\n",
    "    \n",
    "for i, ax in enumerate(ax.flatten()):\n",
    "    ax.grid(axis='y', linestyle='-', alpha=0.4) \n",
    "    \n",
    "    if i==0:ax.set_title('laterality Visualization', fontweight='bold');ax.set_ylim(0,train.laterality.value_counts().values[0]+1500) \n",
    "    else:ax.set_ylim(0, train.laterality.value_counts().values[0]/2+1500);ax.set_title('View with laterality',fontweight='bold')\n",
    "        \n",
    "        \n",
    "        \n",
    "    for p in ax.patches:\n",
    "        percentage = f'{100 * p.get_height() / t:.2f}%\\n'\n",
    "        ax.annotate(percentage, (p.get_x() + p.get_width() / 2,p.get_height()), ha='center', va='center')\n",
    "           \n",
    "plt.show()"
   ]
  },
  {
   "cell_type": "code",
   "execution_count": 39,
   "id": "99b656e7",
   "metadata": {},
   "outputs": [
    {
     "name": "stdout",
     "output_type": "stream",
     "text": [
      "\u001b[1mLaterality Left : 27267\n",
      "\u001b[1mLaterality Left : 27439\n"
     ]
    }
   ],
   "source": [
    "laterality_left = len(train[train['laterality']=='L'])\n",
    "laterality_right = len(train[train['laterality']=='R'])\n",
    "\n",
    "print(f\"\\033[1mLaterality Left : {laterality_left}\")\n",
    "print(f\"\\033[1mLaterality Left : {laterality_right}\")"
   ]
  },
  {
   "cell_type": "code",
   "execution_count": null,
   "id": "31588ce1",
   "metadata": {},
   "outputs": [],
   "source": []
  },
  {
   "cell_type": "markdown",
   "id": "8fa8f7f0",
   "metadata": {},
   "source": [
    "# Cancer Status Analysis"
   ]
  },
  {
   "cell_type": "markdown",
   "id": "bdab2406",
   "metadata": {},
   "source": [
    "# Density"
   ]
  },
  {
   "cell_type": "code",
   "execution_count": 56,
   "id": "dc4c6d47",
   "metadata": {},
   "outputs": [
    {
     "data": {
      "image/png": "[encoded data removed]",
      "text/plain": [
       "<Figure size 1080x360 with 1 Axes>"
      ]
     },
     "metadata": {},
     "output_type": "display_data"
    }
   ],
   "source": [
    "#density - A rating for how dense the breast tissue is, with A being the least dense and D being the most dense.\n",
    "#Extremely dense tissue can make diagnosis more difficult. Only provided for train.\n",
    "\n",
    "temp = train.copy();temp.density.fillna('Null', inplace=True)\n",
    "\n",
    "plt.figure(figsize=(15,5))\n",
    "\n",
    "ax = sns.countplot(data = temp, x = 'density',order=['Null','A','B','C','D'],palette='Blues')\n",
    "t=train.shape[0];ax.set_title('Density Visualization', fontweight='bold', fontsize=15)\n",
    "\n",
    "for p in ax.patches:\n",
    "    percentage = f'{100 * p.get_height() / t:.3f}%\\n';x = p.get_x() + p.get_width() / 2 ; y = p.get_height();\n",
    "    ax.annotate(percentage, (x, y), ha='center', va='center');ax.grid(axis='y', linestyle='-', alpha=0.4) \n",
    "    \n",
    "plt.show()"
   ]
  },
  {
   "cell_type": "code",
   "execution_count": 40,
   "id": "266fa212",
   "metadata": {},
   "outputs": [
    {
     "name": "stdout",
     "output_type": "stream",
     "text": [
      "\u001b[1m46.1330% of paitents density parameter is null\u001b[1m\u001b[0m\n",
      "\u001b[1m2.813% is having very dense breast tissue, which will be difficult to diaganosis\u001b[1m\u001b[0m\n"
     ]
    }
   ],
   "source": [
    "print('\\033[1m46.1330% of paitents density parameter is null\\033[1m\\033[0m')\n",
    "print('\\033[1m2.813% is having very dense breast tissue, which will be difficult to diaganosis\\033[1m\\033[0m')"
   ]
  },
  {
   "cell_type": "code",
   "execution_count": null,
   "id": "f12fe1d8",
   "metadata": {},
   "outputs": [],
   "source": []
  },
  {
   "cell_type": "markdown",
   "id": "63b9392e",
   "metadata": {},
   "source": [
    "## Biopsy"
   ]
  },
  {
   "cell_type": "code",
   "execution_count": 60,
   "id": "1fd09c2b",
   "metadata": {},
   "outputs": [
    {
     "data": {
      "text/html": [
       "<div>\n",
       "<style scoped>\n",
       "    .dataframe tbody tr th:only-of-type {\n",
       "        vertical-align: middle;\n",
       "    }\n",
       "\n",
       "    .dataframe tbody tr th {\n",
       "        vertical-align: top;\n",
       "    }\n",
       "\n",
       "    .dataframe thead th {\n",
       "        text-align: right;\n",
       "    }\n",
       "</style>\n",
       "<table border=\"1\" class=\"dataframe\">\n",
       "  <thead>\n",
       "    <tr style=\"text-align: right;\">\n",
       "      <th></th>\n",
       "      <th>cancer</th>\n",
       "      <th>biopsy</th>\n",
       "      <th>biopsy_done_percentage</th>\n",
       "    </tr>\n",
       "  </thead>\n",
       "  <tbody>\n",
       "    <tr>\n",
       "      <th>0</th>\n",
       "      <td>0</td>\n",
       "      <td>0</td>\n",
       "      <td>96.62</td>\n",
       "    </tr>\n",
       "    <tr>\n",
       "      <th>1</th>\n",
       "      <td>0</td>\n",
       "      <td>1</td>\n",
       "      <td>3.38</td>\n",
       "    </tr>\n",
       "    <tr>\n",
       "      <th>2</th>\n",
       "      <td>1</td>\n",
       "      <td>1</td>\n",
       "      <td>100.00</td>\n",
       "    </tr>\n",
       "  </tbody>\n",
       "</table>\n",
       "</div>"
      ],
      "text/plain": [
       "   cancer  biopsy  biopsy_done_percentage\n",
       "0       0       0                   96.62\n",
       "1       0       1                    3.38\n",
       "2       1       1                  100.00"
      ]
     },
     "execution_count": 60,
     "metadata": {},
     "output_type": "execute_result"
    }
   ],
   "source": [
    "# biopsy - Whether or not a follow-up biopsy was performed on the breast.\n",
    "\n",
    "train.groupby('cancer').biopsy \\\n",
    "        .value_counts(normalize=True) \\\n",
    "        .mul(100) \\\n",
    "        .round(2) \\\n",
    "        .reset_index(name='biopsy_done_percentage')\n",
    "\n",
    "#3.38% people having cancer status False were performed by biopsy"
   ]
  },
  {
   "cell_type": "code",
   "execution_count": 47,
   "id": "c90cbc08",
   "metadata": {},
   "outputs": [
    {
     "data": {
      "image/png": "[encoded data removed]",
      "text/plain": [
       "<Figure size 1440x360 with 3 Axes>"
      ]
     },
     "metadata": {},
     "output_type": "display_data"
    }
   ],
   "source": [
    "biopsy_counts = train.groupby('cancer').biopsy.value_counts().unstack().fillna(0) \n",
    "biopsy_perc = biopsy_counts.transpose() / biopsy_counts.sum(axis=1)\n",
    "\n",
    "fig, ax = plt.subplots(1,2,figsize=(20,5))\n",
    "sns.countplot(x = train.cancer, palette='inferno', ax=ax[0])\n",
    "ax[0].set_title('Number of images displaying cancer');\n",
    "sns.heatmap(biopsy_perc.transpose(), ax=ax[1], annot=True, cmap='BuPu');"
   ]
  },
  {
   "cell_type": "markdown",
   "id": "53a3ddd5",
   "metadata": {},
   "source": [
    "* The number of images displaying cancer is very low. It should be even of lower percentage than the number of patients with cancer.\n",
    "* Looking at the biopsy feature we can say that all patients with cancer had a biopsy.\n",
    "* But only around 3 % of images without cancer had resulted in a follow-up biopsy. Maybe we should better have a look at this feature on the patient-level."
   ]
  },
  {
   "cell_type": "code",
   "execution_count": null,
   "id": "fa7a06cc",
   "metadata": {},
   "outputs": [],
   "source": []
  },
  {
   "cell_type": "markdown",
   "id": "2fdba9af",
   "metadata": {},
   "source": [
    " ## Invasive Cancer"
   ]
  },
  {
   "cell_type": "code",
   "execution_count": 45,
   "id": "10888afa",
   "metadata": {},
   "outputs": [
    {
     "data": {
      "text/plain": [
       "<AxesSubplot:xlabel='invasive', ylabel='count'>"
      ]
     },
     "execution_count": 45,
     "metadata": {},
     "output_type": "execute_result"
    },
    {
     "data": {
      "image/png": "[encoded data removed]",
      "text/plain": [
       "<Figure size 432x288 with 1 Axes>"
      ]
     },
     "metadata": {},
     "output_type": "display_data"
    }
   ],
   "source": [
    "sns.countplot(x = train[train.cancer==1].invasive, palette='Reds')"
   ]
  },
  {
   "cell_type": "code",
   "execution_count": null,
   "id": "c937dc01",
   "metadata": {},
   "outputs": [],
   "source": []
  },
  {
   "cell_type": "markdown",
   "id": "bc6488c4",
   "metadata": {},
   "source": [
    "## Machine IDs"
   ]
  },
  {
   "cell_type": "markdown",
   "id": "0c903621",
   "metadata": {},
   "source": [
    "How many different imaging devices were used?\n",
    "\n"
   ]
  },
  {
   "cell_type": "code",
   "execution_count": 51,
   "id": "3a74543c",
   "metadata": {},
   "outputs": [
    {
     "name": "stdout",
     "output_type": "stream",
     "text": [
      "\u001b[1mThere were used 10 different imaging devices\n"
     ]
    }
   ],
   "source": [
    "print(f\"\\033[1mThere were used {train.machine_id.nunique()} different imaging devices\")"
   ]
  },
  {
   "cell_type": "code",
   "execution_count": 50,
   "id": "8d05bffc",
   "metadata": {},
   "outputs": [
    {
     "data": {
      "image/png": "[encoded data removed]",
      "text/plain": [
       "<Figure size 1440x360 with 1 Axes>"
      ]
     },
     "metadata": {},
     "output_type": "display_data"
    }
   ],
   "source": [
    "fig, ax = plt.subplots(1,1,figsize=(20,5))\n",
    "sns.countplot(x = train.machine_id, palette='pastel', ax=ax);"
   ]
  },
  {
   "cell_type": "code",
   "execution_count": 52,
   "id": "472f4772",
   "metadata": {},
   "outputs": [
    {
     "name": "stdout",
     "output_type": "stream",
     "text": [
      "\u001b[1mMost of the images are from machine 49, 21, 29 and 48\u001b[1m\u001b[0m\n",
      "\u001b[1mMachine difference can lead to image distribution difference\u001b[1m\u001b[0m\n"
     ]
    }
   ],
   "source": [
    "print('\\033[1mMost of the images are from machine 49, 21, 29 and 48\\033[1m\\033[0m')\n",
    "print('\\033[1mMachine difference can lead to image distribution difference\\033[1m\\033[0m')"
   ]
  },
  {
   "cell_type": "code",
   "execution_count": null,
   "id": "4f492dae",
   "metadata": {},
   "outputs": [],
   "source": []
  }
 ],
 "metadata": {
  "kernelspec": {
   "display_name": "Python 3 (ipykernel)",
   "language": "python",
   "name": "python3"
  },
  "language_info": {
   "codemirror_mode": {
    "name": "ipython",
    "version": 3
   },
   "file_extension": ".py",
   "mimetype": "text/x-python",
   "name": "python",
   "nbconvert_exporter": "python",
   "pygments_lexer": "ipython3",
   "version": "3.9.12"
  }
 },
 "nbformat": 4,
 "nbformat_minor": 5
}
